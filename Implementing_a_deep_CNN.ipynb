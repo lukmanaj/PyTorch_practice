{
  "cells": [
    {
      "cell_type": "markdown",
      "metadata": {
        "id": "view-in-github",
        "colab_type": "text"
      },
      "source": [
        "<a href=\"https://colab.research.google.com/github/lukmanaj/PyTorch_practice/blob/main/Implementing_a_deep_CNN.ipynb\" target=\"_parent\"><img src=\"https://colab.research.google.com/assets/colab-badge.svg\" alt=\"Open In Colab\"/></a>"
      ]
    },
    {
      "cell_type": "markdown",
      "metadata": {
        "id": "6_4zKZsFx9Y-"
      },
      "source": [
        "The dimensions of the tensors in each layer are given below:\n",
        "- Input: [batchsize x 28 x 28 x 1]\n",
        "- Conv_1 : [batchsize x 28 x 28 x 32]\n",
        "- Pooling_1 : [batchsize x 14 x 14 x 32]\n",
        "- Conv_2 : [batchsize x 14 x 14 x 64]\n",
        "- Pooling_2 : [batchsize x 7 x 7 x 64]\n",
        "- FC_1 : [batchsize x 1024]\n",
        "- FC_2 and softmax : [batchsize x 10]"
      ]
    },
    {
      "cell_type": "markdown",
      "metadata": {
        "id": "ZBqIZdg2x9ZQ"
      },
      "source": [
        "Kernel size of 5 x 5 for conv layers and 2 x 2 for pooling layers"
      ]
    },
    {
      "cell_type": "code",
      "execution_count": 1,
      "metadata": {
        "id": "2pqA9svix9ZS"
      },
      "outputs": [],
      "source": [
        "import numpy as np\n",
        "import os\n",
        "import matplotlib.pyplot as plt\n",
        "import torch\n",
        "import torchvision\n",
        "import torch.nn as nn\n",
        "from torchvision import transforms\n",
        "from torch.utils.data import DataLoader,Subset\n",
        "\n",
        "\n",
        "\n"
      ]
    },
    {
      "cell_type": "code",
      "execution_count": 2,
      "metadata": {
        "colab": {
          "base_uri": "https://localhost:8080/"
        },
        "id": "q6rKrGtIx9ZY",
        "outputId": "aaa4f830-3439-4130-c76c-f0ce006c7361"
      },
      "outputs": [
        {
          "output_type": "stream",
          "name": "stdout",
          "text": [
            "Downloading http://yann.lecun.com/exdb/mnist/train-images-idx3-ubyte.gz\n",
            "Downloading http://yann.lecun.com/exdb/mnist/train-images-idx3-ubyte.gz to ./MNIST/raw/train-images-idx3-ubyte.gz\n"
          ]
        },
        {
          "output_type": "stream",
          "name": "stderr",
          "text": [
            "100%|██████████| 9912422/9912422 [00:00<00:00, 87548271.79it/s]\n"
          ]
        },
        {
          "output_type": "stream",
          "name": "stdout",
          "text": [
            "Extracting ./MNIST/raw/train-images-idx3-ubyte.gz to ./MNIST/raw\n",
            "\n",
            "Downloading http://yann.lecun.com/exdb/mnist/train-labels-idx1-ubyte.gz\n",
            "Downloading http://yann.lecun.com/exdb/mnist/train-labels-idx1-ubyte.gz to ./MNIST/raw/train-labels-idx1-ubyte.gz\n"
          ]
        },
        {
          "output_type": "stream",
          "name": "stderr",
          "text": [
            "100%|██████████| 28881/28881 [00:00<00:00, 10354363.09it/s]\n"
          ]
        },
        {
          "output_type": "stream",
          "name": "stdout",
          "text": [
            "Extracting ./MNIST/raw/train-labels-idx1-ubyte.gz to ./MNIST/raw\n",
            "\n",
            "Downloading http://yann.lecun.com/exdb/mnist/t10k-images-idx3-ubyte.gz\n",
            "Downloading http://yann.lecun.com/exdb/mnist/t10k-images-idx3-ubyte.gz to ./MNIST/raw/t10k-images-idx3-ubyte.gz\n"
          ]
        },
        {
          "output_type": "stream",
          "name": "stderr",
          "text": [
            "100%|██████████| 1648877/1648877 [00:00<00:00, 27365933.69it/s]\n"
          ]
        },
        {
          "output_type": "stream",
          "name": "stdout",
          "text": [
            "Extracting ./MNIST/raw/t10k-images-idx3-ubyte.gz to ./MNIST/raw\n",
            "\n",
            "Downloading http://yann.lecun.com/exdb/mnist/t10k-labels-idx1-ubyte.gz\n",
            "Downloading http://yann.lecun.com/exdb/mnist/t10k-labels-idx1-ubyte.gz to ./MNIST/raw/t10k-labels-idx1-ubyte.gz\n"
          ]
        },
        {
          "output_type": "stream",
          "name": "stderr",
          "text": [
            "100%|██████████| 4542/4542 [00:00<00:00, 22760488.37it/s]"
          ]
        },
        {
          "output_type": "stream",
          "name": "stdout",
          "text": [
            "Extracting ./MNIST/raw/t10k-labels-idx1-ubyte.gz to ./MNIST/raw\n",
            "\n"
          ]
        },
        {
          "output_type": "stream",
          "name": "stderr",
          "text": [
            "\n"
          ]
        }
      ],
      "source": [
        "image_path = './'\n",
        "transform = transforms.Compose([transforms.ToTensor()])\n",
        "\n",
        "mnist_dataset = torchvision.datasets.MNIST(root=image_path,\n",
        "                                           train=True,\n",
        "                                           transform=transform,\n",
        "                                           download=True)\n",
        "\n",
        "mnist_valid_dataset = Subset(mnist_dataset, torch.arange(10000))\n",
        "mnist_train_dataset = Subset(mnist_dataset, torch.arange(10000, len(mnist_dataset)))\n",
        "mnist_test_dataset = torchvision.datasets.MNIST(root=image_path,\n",
        "                                           train=False,\n",
        "                                           transform=transform,\n",
        "                                           download=False)\n",
        "\n",
        "\n",
        "\n",
        "\n",
        "\n",
        "\n",
        "batch_size = 64\n",
        "torch.manual_seed(1)\n",
        "train_dl = DataLoader(mnist_train_dataset, batch_size, shuffle=True)\n",
        "valid_dl = DataLoader(mnist_valid_dataset, batch_size, shuffle=False)\n",
        "\n"
      ]
    },
    {
      "cell_type": "markdown",
      "metadata": {
        "id": "4yIOvOlSx9Zb"
      },
      "source": [
        " # Configuring CNN layers in PyTorch\n",
        " **Conv2d:*\n",
        "\n",
        "    * `torch.nn.Conv2d`\n",
        "    * `out_channels`\n",
        "    * `kernel_size`    \n",
        "    * `stride`\n",
        "    * `padding`\n",
        "    \n",
        "   \n",
        "  *MaxPool2d:\n",
        "  \n",
        "   * `torch.nn.MaxPool2d`\n",
        "   * `kernel_size`\n",
        "   *  `stride`\n",
        "   * `padding`    \n",
        "\n",
        "    *Dropout*\n",
        "    \n",
        "   *  `torch.nn.Dropout`\n",
        "   * `p`\n"
      ]
    },
    {
      "cell_type": "code",
      "execution_count": 3,
      "metadata": {
        "colab": {
          "base_uri": "https://localhost:8080/"
        },
        "id": "T-WyMgFUx9Zd",
        "outputId": "6a092381-d0b9-4662-b3ac-c67b99ea9e29"
      },
      "outputs": [
        {
          "output_type": "execute_result",
          "data": {
            "text/plain": [
              "torch.Size([4, 64, 7, 7])"
            ]
          },
          "metadata": {},
          "execution_count": 3
        }
      ],
      "source": [
        "model = nn.Sequential()\n",
        "model.add_module('conv1', nn.Conv2d(in_channels=1, out_channels=32, kernel_size=5, padding=2))\n",
        "model.add_module('relu1', nn.ReLU())\n",
        "model.add_module('pool1', nn.MaxPool2d(kernel_size=2))\n",
        "model.add_module('conv2', nn.Conv2d(in_channels=32, out_channels=64, kernel_size=5, padding=2))\n",
        "model.add_module('relu2', nn.ReLU())\n",
        "model.add_module('pool2', nn.MaxPool2d(kernel_size=2))\n",
        "\n",
        "\n",
        "x = torch.ones((4, 1, 28, 28))\n",
        "model(x).shape\n"
      ]
    },
    {
      "cell_type": "code",
      "execution_count": 4,
      "metadata": {
        "colab": {
          "base_uri": "https://localhost:8080/"
        },
        "id": "h7yNCBBIx9Zj",
        "outputId": "48b29fb1-6665-449b-ee4f-186d362cfa98"
      },
      "outputs": [
        {
          "output_type": "execute_result",
          "data": {
            "text/plain": [
              "torch.Size([4, 3136])"
            ]
          },
          "metadata": {},
          "execution_count": 4
        }
      ],
      "source": [
        "# flatten the previous output for a rank 2 tensor to the next layer\n",
        "model.add_module('flatten', nn.Flatten())\n",
        "\n",
        "x = torch.ones((4, 1, 28, 28))\n",
        "model(x).shape\n",
        "\n"
      ]
    },
    {
      "cell_type": "code",
      "execution_count": 5,
      "metadata": {
        "id": "irNPk3_Qx9Zm"
      },
      "outputs": [],
      "source": [
        "# adding two fully connected layers with a dropout layer in between\n",
        "model.add_module('fc1', nn.Linear(3136, 1024))\n",
        "model.add_module('relu3', nn.ReLU())\n",
        "model.add_module('dropout', nn.Dropout(p=0.5))\n",
        "\n",
        "model.add_module('fc2', nn.Linear(1024, 10))\n",
        "\n"
      ]
    },
    {
      "cell_type": "code",
      "execution_count": 6,
      "metadata": {
        "id": "RZWQxCpxx9Zp"
      },
      "outputs": [],
      "source": [
        "device = torch.device(\"cuda:0\")\n",
        "\n",
        "model = model.to(device)\n"
      ]
    },
    {
      "cell_type": "code",
      "execution_count": 7,
      "metadata": {
        "id": "o36AWvmBx9Zq"
      },
      "outputs": [],
      "source": [
        "# loss function and optimizer for the model\n",
        "\n",
        "loss_fn = nn.CrossEntropyLoss()\n",
        "optimizer = torch.optim.Adam(model.parameters(), lr=0.001)\n"
      ]
    },
    {
      "cell_type": "markdown",
      "metadata": {
        "id": "asurCxQqx9Zs"
      },
      "source": [
        "We are now ready to train the model."
      ]
    },
    {
      "cell_type": "code",
      "execution_count": 8,
      "metadata": {
        "id": "NO8JPuY6x9Zu"
      },
      "outputs": [],
      "source": [
        "def train(model, num_epochs, train_dl, valid_dl):\n",
        "    loss_hist_train = [0] * num_epochs\n",
        "    accuracy_hist_train = [0] * num_epochs\n",
        "    loss_hist_valid = [0] * num_epochs\n",
        "    accuracy_hist_valid = [0] * num_epochs\n",
        "    for epoch in range(num_epochs):\n",
        "        model.train()\n",
        "        for x_batch, y_batch in train_dl:\n",
        "            x_batch = x_batch.to(device)\n",
        "            y_batch = y_batch.to(device)\n",
        "            pred = model(x_batch)\n",
        "            loss = loss_fn(pred, y_batch)\n",
        "            loss.backward()\n",
        "            optimizer.step()\n",
        "            optimizer.zero_grad()\n",
        "            loss_hist_train[epoch] += loss.item()*y_batch.size(0)\n",
        "            is_correct = (torch.argmax(pred, dim=1) == y_batch).float()\n",
        "            accuracy_hist_train[epoch] += is_correct.sum().cpu()\n",
        "\n",
        "        loss_hist_train[epoch] /= len(train_dl.dataset)\n",
        "        accuracy_hist_train[epoch] /= len(train_dl.dataset)\n",
        "\n",
        "        model.eval()\n",
        "        with torch.no_grad():\n",
        "            for x_batch, y_batch in valid_dl:\n",
        "                x_batch = x_batch.to(device)\n",
        "                y_batch = y_batch.to(device)\n",
        "                pred = model(x_batch)\n",
        "                loss = loss_fn(pred, y_batch)\n",
        "                loss_hist_valid[epoch] += loss.item()*y_batch.size(0)\n",
        "                is_correct = (torch.argmax(pred, dim=1) == y_batch).float()\n",
        "                accuracy_hist_valid[epoch] += is_correct.sum().cpu()\n",
        "\n",
        "        loss_hist_valid[epoch] /= len(valid_dl.dataset)\n",
        "        accuracy_hist_valid[epoch] /= len(valid_dl.dataset)\n",
        "\n",
        "        print(f'Epoch {epoch+1} accuracy: {accuracy_hist_train[epoch]:.4f} val_accuracy: {accuracy_hist_valid[epoch]:.4f}')\n",
        "    return loss_hist_train, loss_hist_valid, accuracy_hist_train, accuracy_hist_valid\n"
      ]
    },
    {
      "cell_type": "code",
      "execution_count": 9,
      "metadata": {
        "colab": {
          "base_uri": "https://localhost:8080/"
        },
        "id": "lV7DTIMMx9Zw",
        "outputId": "b1a1724d-5bca-46bc-cb2b-1fe653a09f61"
      },
      "outputs": [
        {
          "output_type": "stream",
          "name": "stdout",
          "text": [
            "Epoch 1 accuracy: 0.9498 val_accuracy: 0.9802\n",
            "Epoch 2 accuracy: 0.9841 val_accuracy: 0.9866\n",
            "Epoch 3 accuracy: 0.9891 val_accuracy: 0.9835\n",
            "Epoch 4 accuracy: 0.9919 val_accuracy: 0.9906\n",
            "Epoch 5 accuracy: 0.9928 val_accuracy: 0.9890\n",
            "Epoch 6 accuracy: 0.9954 val_accuracy: 0.9888\n",
            "Epoch 7 accuracy: 0.9947 val_accuracy: 0.9900\n",
            "Epoch 8 accuracy: 0.9957 val_accuracy: 0.9904\n",
            "Epoch 9 accuracy: 0.9972 val_accuracy: 0.9907\n",
            "Epoch 10 accuracy: 0.9970 val_accuracy: 0.9901\n",
            "Epoch 11 accuracy: 0.9966 val_accuracy: 0.9890\n",
            "Epoch 12 accuracy: 0.9973 val_accuracy: 0.9884\n",
            "Epoch 13 accuracy: 0.9973 val_accuracy: 0.9849\n",
            "Epoch 14 accuracy: 0.9974 val_accuracy: 0.9906\n",
            "Epoch 15 accuracy: 0.9977 val_accuracy: 0.9904\n",
            "Epoch 16 accuracy: 0.9979 val_accuracy: 0.9872\n",
            "Epoch 17 accuracy: 0.9981 val_accuracy: 0.9899\n",
            "Epoch 18 accuracy: 0.9976 val_accuracy: 0.9907\n",
            "Epoch 19 accuracy: 0.9984 val_accuracy: 0.9888\n",
            "Epoch 20 accuracy: 0.9981 val_accuracy: 0.9912\n"
          ]
        }
      ],
      "source": [
        "# training the model\n",
        "torch.manual_seed(1)\n",
        "num_epochs = 20\n",
        "hist = train(model, num_epochs, train_dl, valid_dl)"
      ]
    },
    {
      "cell_type": "code",
      "execution_count": 10,
      "metadata": {
        "colab": {
          "base_uri": "https://localhost:8080/",
          "height": 394
        },
        "id": "bqre8F6Gx9Zx",
        "outputId": "15db7755-ccd1-4fa9-a56a-6c99e779e0ec"
      },
      "outputs": [
        {
          "output_type": "display_data",
          "data": {
            "text/plain": [
              "<Figure size 1200x400 with 2 Axes>"
            ],
            "image/png": "[encoded data removed]"
          },
          "metadata": {}
        }
      ],
      "source": [
        "# visualizing\n",
        "x_arr = np.arange(len(hist[0])) + 1\n",
        "\n",
        "fig = plt.figure(figsize=(12, 4))\n",
        "ax = fig.add_subplot(1, 2, 1)\n",
        "ax.plot(x_arr, hist[0], '-o', label='Train loss')\n",
        "ax.plot(x_arr, hist[1], '--<', label='Validation loss')\n",
        "ax.set_xlabel('Epoch', size=15)\n",
        "ax.set_ylabel('Loss', size=15)\n",
        "ax.legend(fontsize=15)\n",
        "ax = fig.add_subplot(1, 2, 2)\n",
        "ax.plot(x_arr, hist[2], '-o', label='Train acc.')\n",
        "ax.plot(x_arr, hist[3], '--<', label='Validation acc.')\n",
        "ax.legend(fontsize=15)\n",
        "ax.set_xlabel('Epoch', size=15)\n",
        "ax.set_ylabel('Accuracy', size=15)\n",
        "\n",
        "#plt.savefig('figures/14_13.png')\n",
        "plt.show()\n"
      ]
    },
    {
      "cell_type": "code",
      "execution_count": 12,
      "metadata": {
        "colab": {
          "base_uri": "https://localhost:8080/"
        },
        "id": "8G5P9yfbx9Zy",
        "outputId": "566f4075-c02e-4801-a5cb-84a4f24683a5"
      },
      "outputs": [
        {
          "output_type": "stream",
          "name": "stdout",
          "text": [
            "Test accuracy: 0.9932\n"
          ]
        }
      ],
      "source": [
        "torch.cuda.synchronize()\n",
        "model_cpu = model.cpu()\n",
        "pred = model(mnist_test_dataset.data.unsqueeze(1) / 255.)\n",
        "is_correct = (torch.argmax(pred, dim=1) == mnist_test_dataset.targets).float()\n",
        "print(f'Test accuracy: {is_correct.mean():.4f}')\n",
        "\n"
      ]
    },
    {
      "cell_type": "markdown",
      "source": [
        "Showing some predictions"
      ],
      "metadata": {
        "id": "NhY9Uz1f0jXt"
      }
    },
    {
      "cell_type": "code",
      "execution_count": 14,
      "metadata": {
        "colab": {
          "base_uri": "https://localhost:8080/",
          "height": 337
        },
        "id": "AKsJIPcWx9Zz",
        "outputId": "ae08a271-cfd4-45aa-a39c-6a83c985a004"
      },
      "outputs": [
        {
          "output_type": "display_data",
          "data": {
            "text/plain": [
              "<Figure size 1200x400 with 12 Axes>"
            ],
            "image/png": "[encoded data removed]"
          },
          "metadata": {}
        }
      ],
      "source": [
        "fig = plt.figure(figsize=(12, 4))\n",
        "for i in range(12):\n",
        "    ax = fig.add_subplot(2, 6, i+1)\n",
        "    ax.set_xticks([]); ax.set_yticks([])\n",
        "    img = mnist_test_dataset[i][0][0, :, :]\n",
        "    pred = model(img.unsqueeze(0).unsqueeze(1))\n",
        "    y_pred = torch.argmax(pred)\n",
        "    ax.imshow(img, cmap='gray_r')\n",
        "    ax.text(0.9, 0.1, y_pred.item(),\n",
        "            size=15, color='blue',\n",
        "            horizontalalignment='center',\n",
        "            verticalalignment='center',\n",
        "            transform=ax.transAxes)\n",
        "\n",
        "\n",
        "plt.show()\n",
        "\n"
      ]
    },
    {
      "cell_type": "code",
      "execution_count": 15,
      "metadata": {
        "id": "awDDdVT-x9Z0"
      },
      "outputs": [],
      "source": [
        "if not os.path.exists('models'):\n",
        "    os.mkdir('models')\n",
        "\n",
        "path = 'models/mnist-cnn.ph'\n",
        "torch.save(model, path)\n",
        "\n"
      ]
    }
  ],
  "metadata": {
    "kernelspec": {
      "display_name": "Python 3",
      "name": "python3"
    },
    "language_info": {
      "codemirror_mode": {
        "name": "ipython",
        "version": 3
      },
      "file_extension": ".py",
      "mimetype": "text/x-python",
      "name": "python",
      "nbconvert_exporter": "python",
      "pygments_lexer": "ipython3",
      "version": "3.10.10"
    },
    "orig_nbformat": 4,
    "colab": {
      "provenance": [],
      "gpuType": "T4",
      "include_colab_link": true
    },
    "accelerator": "GPU"
  },
  "nbformat": 4,
  "nbformat_minor": 0
}